{
 "cells": [
  {
   "cell_type": "markdown",
   "id": "8243bbb2",
   "metadata": {},
   "source": [
    "## TUIA - Aprendizaje Automático 1 - 2023\n",
    "\n",
    "### Trabajo Práctico: Predicción de lluvia en Australia.\n",
    "\n",
    "### Integrantes:\n",
    "- Ponce, Daniel\n",
    "- Yañez, Mirian"
   ]
  },
  {
   "cell_type": "markdown",
   "id": "41d30a9a",
   "metadata": {},
   "source": [
    "El presente informe detalla el trabajo práctico llevado a cabo para la predicción de las condiciones climáticas en Australia, centrándonos en las ciudades de Sydney, SydneyAirport, Canberra, Melbourne y MelbourneAirport. \n",
    "\n",
    "El conjunto de datos utilizado se denomina weatherAUS.csv y contiene información climática de los últimos diez años.\n",
    "\n",
    "## Variables de Interés:\n",
    "\n",
    "**RainTomorrow y RainfallTomorrow**: Estas variables representan nuestro objetivo de predicción, indicando si lloverá al día siguiente y la cantidad de lluvia, respectivamente.\n",
    "\n",
    "\"RainTomorrow\" (categórica, para un problema de clasificación)\n",
    "\n",
    "\"RainfallTomorrow\" (continua, para un problema de regresión)."
   ]
  },
  {
   "cell_type": "markdown",
   "id": "b7e8dd25",
   "metadata": {},
   "source": [
    "## Paquetes y Librerias"
   ]
  },
  {
   "cell_type": "code",
   "execution_count": null,
   "id": "acac0440a895c260",
   "metadata": {
    "collapsed": false,
    "is_executing": true
   },
   "outputs": [],
   "source": [
    "import sys\n",
    "import os\n",
    "import pandas as pd\n",
    "import matplotlib.pyplot as plt\n",
    "import numpy as np\n",
    "import seaborn as sns\n",
    "\n",
    "sys.path.append(\"code\")\n",
    "current_dir = os.path.dirname(os.path.realpath('__file__'))\n",
    "data_source = os.path.join(current_dir, 'data', 'weatherAUS.csv')\n",
    "\n",
    "from cleaning.clean import Clean\n",
    "from regresion_lineal.regresion import RegressionLineal\n",
    "from shap_analyzer.shap_analyzer import SHAPAnalyzer\n",
    "from modelo_base.regression import RegresionModelBase\n",
    "from modelo_base.clasification import ClasificacionModelBase\n",
    "from neural_network.classification_neural import ClassificationNeuralNetwork\n",
    "from neural_network.regression_neural import RegressionNeuralNetwork\n",
    "from common import split_dataset\n"
   ]
  },
  {
   "cell_type": "markdown",
   "id": "deae4489",
   "metadata": {},
   "source": [
    "### **Convertimos en variables numéricas las columnas 'RainToday' y 'RainTomorrow'**"
   ]
  },
  {
   "cell_type": "code",
   "execution_count": null,
   "id": "f22ab630",
   "metadata": {
    "is_executing": true
   },
   "outputs": [],
   "source": [
    "df = pd.read_csv(data_source)\n",
    "df[\"Date\"]=pd.to_datetime(df[\"Date\"])\n",
    "df['RainToday'] = df['RainToday'].map({'No': 0, 'Yes': 1})\n",
    "df['RainTomorrow'] = df['RainTomorrow'].map({'No': 0, 'Yes': 1})"
   ]
  },
  {
   "cell_type": "markdown",
   "id": "8031248c",
   "metadata": {},
   "source": [
    "# 2) Análisis descriptivo"
   ]
  },
  {
   "cell_type": "code",
   "execution_count": null,
   "id": "894216a0",
   "metadata": {
    "is_executing": true
   },
   "outputs": [],
   "source": [
    "df.columns"
   ]
  },
  {
   "cell_type": "code",
   "execution_count": null,
   "id": "1fc516ca",
   "metadata": {
    "is_executing": true
   },
   "outputs": [],
   "source": [
    "df.head()"
   ]
  },
  {
   "cell_type": "code",
   "execution_count": null,
   "id": "88f52afe",
   "metadata": {
    "is_executing": true
   },
   "outputs": [],
   "source": [
    "df.info()"
   ]
  },
  {
   "cell_type": "markdown",
   "id": "a7479875",
   "metadata": {},
   "source": [
    "### **Hay un total de 145412 datos, se puede observar que hay datos nulos.**"
   ]
  },
  {
   "cell_type": "markdown",
   "id": "d7236d8a",
   "metadata": {},
   "source": [
    "## Filtramos por las ciudades de interés"
   ]
  },
  {
   "cell_type": "code",
   "execution_count": null,
   "id": "4b9ffba8",
   "metadata": {
    "is_executing": true
   },
   "outputs": [],
   "source": [
    "ciudades = ['Sydney', 'SydneyAirport', 'Canberra', 'Melbourne', 'MelbourneAirport']\n",
    "df = df[df['Location'].isin(ciudades)]"
   ]
  },
  {
   "cell_type": "code",
   "execution_count": null,
   "id": "42e33233",
   "metadata": {
    "is_executing": true
   },
   "outputs": [],
   "source": [
    "df.info()"
   ]
  },
  {
   "cell_type": "markdown",
   "id": "60974bb4",
   "metadata": {},
   "source": [
    "### Ahora contamos con un total de 15986 datos."
   ]
  },
  {
   "cell_type": "markdown",
   "id": "8ce68173",
   "metadata": {},
   "source": [
    "### Cantidad de valores faltantes:"
   ]
  },
  {
   "cell_type": "code",
   "execution_count": null,
   "id": "7d988741",
   "metadata": {
    "is_executing": true
   },
   "outputs": [],
   "source": [
    "df.isna().sum()"
   ]
  },
  {
   "cell_type": "markdown",
   "id": "bc4ea444",
   "metadata": {},
   "source": [
    "### Estadística descriptiva de las variables numéricas"
   ]
  },
  {
   "cell_type": "code",
   "execution_count": 1,
   "id": "909016d2",
   "metadata": {
    "ExecuteTime": {
     "end_time": "2024-02-26T04:47:00.100093Z",
     "start_time": "2024-02-26T04:46:59.898720Z"
    }
   },
   "outputs": [
    {
     "ename": "NameError",
     "evalue": "name 'df' is not defined",
     "output_type": "error",
     "traceback": [
      "\u001B[0;31m---------------------------------------------------------------------------\u001B[0m",
      "\u001B[0;31mNameError\u001B[0m                                 Traceback (most recent call last)",
      "Cell \u001B[0;32mIn[1], line 1\u001B[0m\n\u001B[0;32m----> 1\u001B[0m \u001B[43mdf\u001B[49m\u001B[38;5;241m.\u001B[39mdescribe()\n",
      "\u001B[0;31mNameError\u001B[0m: name 'df' is not defined"
     ]
    }
   ],
   "source": [
    "df.describe()"
   ]
  },
  {
   "cell_type": "markdown",
   "id": "8d95ac0e",
   "metadata": {},
   "source": [
    "### Analizamos nuestra variable objetivo, la que queremos predecir para saber si el df esta balanceado o no."
   ]
  },
  {
   "cell_type": "code",
   "execution_count": null,
   "id": "c91931a7",
   "metadata": {},
   "outputs": [],
   "source": [
    "plt.figure(figsize=(8, 5))\n",
    "sns.countplot(x='RainTomorrow', data=df)\n",
    "plt.title('Distribución de RainTomorrow')\n",
    "plt.show()"
   ]
  },
  {
   "cell_type": "markdown",
   "id": "9c17e2e8",
   "metadata": {},
   "source": [
    "### Se puede observar que el dataset no está balanceado"
   ]
  },
  {
   "cell_type": "markdown",
   "id": "e40354f5",
   "metadata": {},
   "source": [
    "### Histogramas"
   ]
  },
  {
   "cell_type": "code",
   "execution_count": null,
   "id": "9ae17b5b",
   "metadata": {},
   "outputs": [],
   "source": [
    "numeric_columns = df.select_dtypes(include=[np.float64]).columns\n",
    "\n",
    "plt.figure(figsize=(15, 10))\n",
    "for i, column in enumerate(numeric_columns, 1):\n",
    "    plt.subplot(4, 5, i)\n",
    "    sns.histplot(df[column].dropna(), kde=True)\n",
    "    plt.title(f'Histograma de {column}')\n",
    "\n",
    "plt.tight_layout()\n",
    "plt.show()\n"
   ]
  },
  {
   "cell_type": "markdown",
   "id": "9952c217",
   "metadata": {},
   "source": [
    "# Matriz de correlación "
   ]
  },
  {
   "cell_type": "code",
   "execution_count": null,
   "id": "118ed9a8",
   "metadata": {},
   "outputs": [],
   "source": [
    "correlation_matrix_numeric = df[numeric_columns].corr()\n",
    "\n",
    "plt.figure(figsize=(12, 8))\n",
    "sns.heatmap(correlation_matrix_numeric, annot=True, cmap='coolwarm', fmt=\".2f\")\n",
    "plt.title('Matriz de Correlación para Variables Numéricas')\n",
    "plt.show()\n"
   ]
  },
  {
   "cell_type": "markdown",
   "id": "1a3bf210",
   "metadata": {},
   "source": [
    "Podemos observar que las variables con mayor correlación con RainfallTomorrow son:\n",
    "\n",
    "*   Humidity3pm (0.35)\n",
    "*   Rainfall (0.29)\n",
    "*   Cloud3pm (0.25)\n",
    "*   Sunshine (-0.31)\n",
    "\n",
    "y las variables con mayor correlación con RainTomorrow son:\n",
    "\n",
    "*   Humidity3pm (0,42)\n",
    "*   Cloud3pm (0.37)\n",
    "*   Rainfall (0,24)\n",
    "*   Sunshine (-0,43)"
   ]
  },
  {
   "cell_type": "markdown",
   "source": [
    "## Realizamos el split de entrenamiento y prueba"
   ],
   "metadata": {
    "collapsed": false
   },
   "id": "1e147a23b5bed332"
  },
  {
   "cell_type": "code",
   "outputs": [],
   "source": [
    "x_train, x_test, y_train_regression, y_test_regression, y_train_classification, y_test_classification = split_dataset(df)\n",
    "print(x_train)"
   ],
   "metadata": {
    "collapsed": false
   },
   "id": "f9ffd5b204dd2a4",
   "execution_count": null
  },
  {
   "cell_type": "markdown",
   "id": "6848a9df",
   "metadata": {},
   "source": [
    "## Realizamos la limpieza en la clase clean y volvemos a visualizar los datos"
   ]
  },
  {
   "cell_type": "code",
   "execution_count": null,
   "id": "32712281debdafae",
   "metadata": {
    "collapsed": false
   },
   "outputs": [],
   "source": [
    "data = Clean(x_train)\n",
    "data_clean = data.process()\n",
    "data_clean.head()"
   ]
  },
  {
   "cell_type": "code",
   "execution_count": null,
   "id": "e15bf38e",
   "metadata": {},
   "outputs": [],
   "source": [
    "data_clean.info()"
   ]
  },
  {
   "cell_type": "code",
   "execution_count": null,
   "id": "9af253cf",
   "metadata": {},
   "outputs": [],
   "source": [
    "data_clean.describe()"
   ]
  },
  {
   "cell_type": "code",
   "execution_count": null,
   "id": "45bf72fe",
   "metadata": {},
   "outputs": [],
   "source": [
    "print(data_clean.columns)"
   ]
  },
  {
   "cell_type": "code",
   "execution_count": null,
   "id": "c6cd6dd5",
   "metadata": {},
   "outputs": [],
   "source": [
    "#Observamos la distribución para ver si hay linealidad\n",
    "columnas = [col for col in data_clean.columns if ((col != 'RainfallTomorrow') & (col != 'Location') & (col != 'Date'))]\n",
    "\n",
    "sns.pairplot(df, x_vars=columnas, y_vars='RainfallTomorrow')\n",
    "plt.show()"
   ]
  },
  {
   "cell_type": "code",
   "execution_count": null,
   "id": "a950ac87",
   "metadata": {},
   "outputs": [],
   "source": [
    "# Seleccionar columnas numéricas\n",
    "numeric_columns = data_clean.select_dtypes(include=[np.float64, np.int32]).columns\n",
    "\n",
    "# Matriz de correlación para variables numéricas\n",
    "correlation_matrix_numeric = data_clean[numeric_columns].corr()\n",
    "\n",
    "# Plotear la matriz de correlación\n",
    "plt.figure(figsize=(12, 8))\n",
    "sns.heatmap(correlation_matrix_numeric, annot=True, cmap='coolwarm', fmt=\".2f\")\n",
    "plt.title('Matriz de Correlación para Variables Numéricas')\n",
    "plt.show()"
   ]
  },
  {
   "cell_type": "markdown",
   "id": "79e0badd",
   "metadata": {},
   "source": [
    "### En esta parte implementamos en simultaneo las siguientes consignas:\n",
    "\n",
    "* Implementar la solución del problema de regresión con regresión lineal múltiple.\n",
    "\n",
    "* Optimizar la selección de hiperparámetros.\n",
    "\n",
    "* Implementar explicabilidad del modelo. SHAP\n"
   ]
  },
  {
   "cell_type": "code",
   "execution_count": null,
   "id": "9b1e7928662c2442",
   "metadata": {
    "collapsed": false
   },
   "outputs": [],
   "source": [
    "regresion_clasic = RegressionLineal()\n",
    "y_test_regression, y_pred_regression, modelo = regresion_clasic.classic(x_train, x_test, y_train_regression, y_test_regression)\n",
    "\n",
    "metricas = regresion_clasic.metrics(y_test_regression, y_pred_regression)\n",
    "print(f\"Métricas del modelo Regresion lineal clasic:\")\n",
    "print(metricas)"
   ]
  },
  {
   "cell_type": "code",
   "execution_count": null,
   "id": "28368ee1",
   "metadata": {},
   "outputs": [],
   "source": [
    "#aplicamos validación cruzada\n",
    "print(x_test)\n",
    "regresion_clasic.cross_validate(x_test, y_test, modelo, cv=5)\n",
    "print(f\"El modelo\")\n",
    "print(x_test, modelo)"
   ]
  },
  {
   "cell_type": "code",
   "execution_count": null,
   "id": "a0cb0e4e71730703",
   "metadata": {
    "collapsed": false
   },
   "outputs": [],
   "source": [
    "try:\n",
    "    shap_analyzer = SHAPAnalyzer(modelo, x_test)\n",
    "    shap_analyzer.summary_plot()\n",
    "except Exception as e:\n",
    "    print(f\"Error en la función apply_shap: {str(e)}\")"
   ]
  },
  {
   "cell_type": "code",
   "execution_count": null,
   "id": "e234c1adc16abc97",
   "metadata": {
    "collapsed": false
   },
   "outputs": [],
   "source": [
    "print('métodos de gradiente descendiente')\n",
    "regresion_gradient_desecent = RegressionLineal(data_clean)\n",
    "x_test, y_test, y_pred, modelo = regresion_gradient_desecent.gradient_descent()\n",
    "metricas = regresion_gradient_desecent.metrics(y_test, y_pred)\n",
    "print(f\"Métricas del Modelo:\")\n",
    "print(metricas)"
   ]
  },
  {
   "cell_type": "code",
   "execution_count": null,
   "id": "b02cd69f",
   "metadata": {},
   "outputs": [],
   "source": [
    "#aplicamos validación cruzada\n",
    "regresion_gradient_desecent.cross_validate(x_test, y_test, modelo, cv=5)"
   ]
  },
  {
   "cell_type": "code",
   "execution_count": null,
   "id": "d6cd3c056d069523",
   "metadata": {
    "collapsed": false
   },
   "outputs": [],
   "source": [
    "try:\n",
    "    shap_analyzer = SHAPAnalyzer(modelo, x_test)\n",
    "    shap_analyzer.summary_plot()\n",
    "except Exception as e:\n",
    "    print(f\"Error en la función apply_shap: {str(e)}\")"
   ]
  },
  {
   "cell_type": "code",
   "execution_count": null,
   "id": "91c17842ea29a4c6",
   "metadata": {
    "collapsed": false
   },
   "outputs": [],
   "source": [
    "param_grid = {\n",
    "    'fit_intercept': [True, False],\n",
    "    'alpha': [0.0001, 0.001, 0.01, 0.1, 1.0],\n",
    "    'learning_rate': ['constant', 'optimal', 'invscaling', 'adaptive'],\n",
    "    'max_iter': [100, 200, 500, 1000]  \n",
    "}\n",
    "\n",
    "regresion_gradient_descent = RegressionLineal(data_clean)\n",
    "x_test, y_test, y_pred, best_model = regresion_gradient_descent.gradient_descent_optimize_hyperparameters(param_grid)\n",
    "metricas = regresion_gradient_descent.metrics(y_test, y_pred)\n",
    "print(f\"Métricas del mejor modelo:\")\n",
    "print(metricas)\n",
    "print(\"Mejores hiperparámetros:\", best_model.get_params())"
   ]
  },
  {
   "cell_type": "markdown",
   "id": "8a465835",
   "metadata": {},
   "source": [
    "## Regresión linean de Lasso"
   ]
  },
  {
   "cell_type": "code",
   "execution_count": null,
   "id": "5c048250bcabf869",
   "metadata": {
    "collapsed": false
   },
   "outputs": [],
   "source": [
    "# regresion de Lasso\n",
    "regresion_lasso = RegressionLineal(data_clean)\n",
    "x_test, y_test, y_pred, lasso_model = regresion_lasso.lasso_regression()\n",
    "metricas = regresion_lasso.metrics(y_test, y_pred)\n",
    "print(f\"Métricas del modelo Regresion lineal Lasso:\")\n",
    "print(metricas)"
   ]
  },
  {
   "cell_type": "code",
   "execution_count": null,
   "id": "8f0f77f9",
   "metadata": {},
   "outputs": [],
   "source": [
    "#aplicamos validación cruzada\n",
    "regresion_lasso.cross_validate(x_test, y_test, modelo, cv=5)"
   ]
  },
  {
   "cell_type": "code",
   "execution_count": null,
   "id": "f842514bc9943253",
   "metadata": {
    "collapsed": false
   },
   "outputs": [],
   "source": [
    "try:\n",
    "    shap_analyzer = SHAPAnalyzer(lasso_model, x_test)\n",
    "    shap_analyzer.summary_plot()\n",
    "except Exception as e:\n",
    "    print(f\"Error en la función apply_shap: {str(e)}\")"
   ]
  },
  {
   "cell_type": "code",
   "execution_count": null,
   "id": "89fddcdd4ba4cce4",
   "metadata": {
    "collapsed": false
   },
   "outputs": [],
   "source": [
    "# Crear una instancia de la clase RegressionLineal\n",
    "regresion_lineal = RegressionLineal(data_clean)\n",
    "\n",
    "# Definir el rango de valores para el hiperparámetro alpha\n",
    "param_grid_lasso = {\n",
    "    'alpha': [0.001, 0.01, 0.1, 1.0, 10.0, 100.0]\n",
    "}\n",
    "\n",
    "# Llamar al método optimize_hyperparameters para Lasso\n",
    "x_test, y_test, y_pred_lasso, best_lasso_model = regresion_lineal.optimize_hyperparameters('Lasso', param_grid_lasso)\n",
    "\n",
    "# Calcular métricas\n",
    "metricas_lasso = regresion_lineal.metrics(y_test, y_pred_lasso)\n",
    "\n",
    "# Imprimir métricas y mejores hiperparámetros para Lasso\n",
    "print(f\"Métricas del mejor modelo Lasso:\")\n",
    "print(metricas_lasso)\n",
    "print(\"Mejores hiperparámetros para Lasso:\", best_lasso_model.get_params())\n"
   ]
  },
  {
   "cell_type": "markdown",
   "id": "8f5ecbbb",
   "metadata": {},
   "source": [
    "## Regresión lineal de Ridge"
   ]
  },
  {
   "cell_type": "code",
   "execution_count": null,
   "id": "3e699c0be3deed64",
   "metadata": {
    "collapsed": false
   },
   "outputs": [],
   "source": [
    "# regresion de Ridge\n",
    "\n",
    "regresion_ridge = RegressionLineal(data_clean)\n",
    "x_test, y_test, y_pred, ridge_model = regresion_ridge.ridge_regression()\n",
    "metricas = regresion_lasso.metrics(y_test, y_pred)\n",
    "print(f\"Métricas del modelo Regresion lineal Ridge:\")\n",
    "print(metricas)\n"
   ]
  },
  {
   "cell_type": "code",
   "execution_count": null,
   "id": "16ff73dd37172d25",
   "metadata": {
    "collapsed": false
   },
   "outputs": [],
   "source": [
    "try:\n",
    "    shap_analyzer = SHAPAnalyzer(ridge_model, x_test)\n",
    "    shap_analyzer.summary_plot()\n",
    "except Exception as e:\n",
    "    print(f\"Error en la función apply_shap: {str(e)}\")"
   ]
  },
  {
   "cell_type": "code",
   "execution_count": null,
   "id": "f6d1b9aaa492c333",
   "metadata": {
    "collapsed": false
   },
   "outputs": [],
   "source": [
    "# Crear una instancia de la clase RegressionLineal\n",
    "regresion_lineal = RegressionLineal(data_clean)\n",
    "\n",
    "# Definir el rango de valores para el hiperparámetro alpha\n",
    "param_grid_Ridge = {\n",
    "    'alpha': [0.001, 0.01, 0.1, 1.0, 10.0, 100.0]\n",
    "}\n",
    "\n",
    "# Llamar al método optimize_hyperparameters para Lasso\n",
    "x_test, y_test, y_pred_lasso, best_lasso_model = regresion_lineal.optimize_hyperparameters('Ridge', param_grid_Ridge)\n",
    "\n",
    "# Calcular métricas\n",
    "metricas_lasso = regresion_lineal.metrics(y_test, y_pred_lasso)\n",
    "\n",
    "# Imprimir métricas y mejores hiperparámetros para Lasso\n",
    "print(f\"Métricas del mejor modelo Ridge:\")\n",
    "print(metricas_lasso)\n",
    "print(\"Mejores hiperparámetros para Ridge:\", best_lasso_model.get_params())"
   ]
  },
  {
   "cell_type": "markdown",
   "id": "f6f36f94",
   "metadata": {},
   "source": [
    "## Regresión lineal de Elasticnet"
   ]
  },
  {
   "cell_type": "code",
   "execution_count": null,
   "id": "e2d494acd845f20e",
   "metadata": {
    "collapsed": false
   },
   "outputs": [],
   "source": [
    "# regresion de Elasticnet\n",
    "\n",
    "regresion_elasticnet = RegressionLineal(data_clean)\n",
    "x_test, y_test, y_pred, elasticnet_model = regresion_elasticnet.elasticnet_regression()\n",
    "\n",
    "metricas = regresion_elasticnet.metrics(y_test, y_pred)\n",
    "print(f\"Métricas del modelo Regresion lineal Elasticnet:\")\n",
    "print(metricas)"
   ]
  },
  {
   "cell_type": "code",
   "execution_count": null,
   "id": "24e9edd5458c06f8",
   "metadata": {
    "collapsed": false
   },
   "outputs": [],
   "source": [
    "try:\n",
    "    shap_analyzer = SHAPAnalyzer(elasticnet_model, x_test)\n",
    "    shap_analyzer.summary_plot()\n",
    "except Exception as e:\n",
    "    print(f\"Error en la función apply_shap: {str(e)}\")"
   ]
  },
  {
   "cell_type": "code",
   "execution_count": null,
   "id": "e9bbad7b1102b4e4",
   "metadata": {
    "collapsed": false
   },
   "outputs": [],
   "source": [
    "regresion_lineal = RegressionLineal(data_clean)\n",
    "\n",
    "# Definir el rango de valores para el hiperparámetro alpha\n",
    "param_grid_Elasticnet = {\n",
    "    'alpha': [0.001, 0.01, 0.1, 1.0, 10.0, 100.0],\n",
    "    'l1_ratio': [0.1, 0.3, 0.5, 0.7, 0.9]  # Puedes ajustar estos valores según sea necesario\n",
    "}\n",
    "# Llamar al método optimize_hyperparameters para Lasso\n",
    "x_test, y_test, y_pred_elasticnet, best_lasso_model = regresion_lineal.optimize_hyperparameters('ElasticNet', param_grid_Elasticnet)\n",
    "\n",
    "# Calcular métricas\n",
    "metricas_elasticnet = regresion_lineal.metrics(y_test, y_pred_elasticnet)\n",
    "\n",
    "# Imprimir métricas y mejores hiperparámetros para Lasso\n",
    "print(f\"Métricas del mejor modelo Elasticnet:\")\n",
    "print(metricas_elasticnet)\n",
    "print(\"Mejores hiperparámetros para Elasticnet:\", best_lasso_model.get_params())"
   ]
  },
  {
   "cell_type": "markdown",
   "id": "fabe46cf",
   "metadata": {},
   "source": [
    "## Regresión Logística"
   ]
  },
  {
   "cell_type": "code",
   "execution_count": null,
   "id": "69e894f0d6276faf",
   "metadata": {
    "collapsed": false
   },
   "outputs": [],
   "source": [
    "#regresion logistica\n",
    "regression_logistic = RegressionLineal(data_clean)\n",
    "x_test, y_test, y_pred, modelo = regression_logistic.logistic()\n",
    "regression_logistic.logic_metrics(y_test, y_pred)"
   ]
  },
  {
   "cell_type": "code",
   "execution_count": null,
   "id": "58dfce2effe12da0",
   "metadata": {
    "collapsed": false
   },
   "outputs": [],
   "source": [
    "try:\n",
    "    shap_analyzer = SHAPAnalyzer(modelo, x_test)\n",
    "    shap_analyzer.summary_plot()\n",
    "except Exception as e:\n",
    "    print(f\"Error en la función apply_shap: {str(e)}\")"
   ]
  },
  {
   "cell_type": "code",
   "execution_count": null,
   "id": "184a967e93291f65",
   "metadata": {
    "collapsed": false
   },
   "outputs": [],
   "source": [
    "regresion_lineal = RegressionLineal(data_clean)\n",
    "#buscando los hipperparametros\n",
    "param_grid_logistic = {\n",
    "    'C': [ 0.01, 0.1],\n",
    "    'penalty': ['l1'],\n",
    "    'solver': ['liblinear']\n",
    "}\n",
    "x_test_logistic, y_test_logistic, y_pred_logistic, best_logistic_model = regresion_lineal.optimize_hyperparameters_logistic(param_grid_logistic)\n",
    "\n",
    "# Calcular métricas\n",
    "metricas_logistic = regresion_lineal.metrics(y_test_logistic, y_pred_logistic)\n",
    "\n",
    "# Imprimir métricas y mejores hiperparámetros para la regresión logística\n",
    "print(f\"Métricas del mejor modelo de regresión logística:\")\n",
    "print(metricas_logistic)\n",
    "print(\"Mejores hiperparámetros para la regresión logística:\", best_logistic_model.get_params())\n"
   ]
  },
  {
   "cell_type": "markdown",
   "id": "81123b84",
   "metadata": {
    "collapsed": false
   },
   "source": [
    "### Observamos que tanto el modelo como la validación cruzada tienden a sobreajustar las predicciones hacia la clase negativa. Esto se debe a que la clase negativa es la más predominante. Para abordar este desbalance, procedemos a equilibrar las clases."
   ]
  },
  {
   "cell_type": "code",
   "execution_count": null,
   "id": "6d19fd70",
   "metadata": {
    "collapsed": false
   },
   "outputs": [],
   "source": [
    "#regresion logistica balanceada\n",
    "regression_logistic = RegressionLineal(data_clean)\n",
    "x_test, y_test, y_pred, modelo = regression_logistic.logistic_balanced()\n",
    "regression_logistic.logic_metrics(y_test, y_pred)"
   ]
  },
  {
   "cell_type": "markdown",
   "id": "53a29b5f",
   "metadata": {},
   "source": [
    "### Optamos por mantener el modelo balanceado, ya que aunque observamos una disminución en las métricas de predicción negativa, consideramos prioritario mejorar las métricas de predicción positiva. En este contexto, valoramos una mayor precisión en la anticipación de días lluviosos."
   ]
  },
  {
   "cell_type": "markdown",
   "id": "852c53c5",
   "metadata": {},
   "source": [
    "## Implementar un modelo base para clasificación y uno para regresión"
   ]
  },
  {
   "cell_type": "code",
   "execution_count": null,
   "id": "6592e67e627806d4",
   "metadata": {
    "collapsed": false
   },
   "outputs": [],
   "source": [
    "\n",
    "# Ejemplo de uso\n",
    "# Supongamos que tienes un DataFrame llamado 'data_clean' con las características relevantes y la etiqueta 'RainTomorrow'\n",
    "clasificacion_modelo_base = ClasificacionModelBase(data_clean)\n",
    "metricas_rendimiento_base = clasificacion_modelo_base.train_and_evaluate()\n",
    "\n",
    "# Mostrar métricas de rendimiento\n",
    "print(\"Métricas de rendimiento del modelo base de clasificación:\")\n",
    "for metric, value in metricas_rendimiento_base.items():\n",
    "    print(f\"{metric}: {value:.2f}\")"
   ]
  },
  {
   "cell_type": "code",
   "execution_count": null,
   "id": "5432164c99bfb966",
   "metadata": {
    "collapsed": false
   },
   "outputs": [],
   "source": [
    "\n",
    "# Ejemplo de uso\n",
    "# Suponiendo que tienes un DataFrame llamado 'data' con las columnas 'Temp3pm' y 'RainfallTomorrow'\n",
    "modelo_regresion_base = RegresionModelBase(data_clean)\n",
    "modelo_entrenado, error_cuadratico_medio, coeficiente_determinacion = modelo_regresion_base.train()\n",
    "\n",
    "# Mostrar métricas de rendimiento\n",
    "print(\"Métricas de rendimiento:\")\n",
    "print(f\"Error cuadrático medio (MSE): {error_cuadratico_medio:.2f}\")\n",
    "print(f\"Coeficiente de determinación (R^2): {coeficiente_determinacion:.2f}\")\n"
   ]
  },
  {
   "cell_type": "markdown",
   "id": "ab126bbc",
   "metadata": {},
   "source": [
    "## Implementar las soluciones con una red neuronal"
   ]
  },
  {
   "cell_type": "code",
   "execution_count": null,
   "id": "90cae97fd43e23c6",
   "metadata": {
    "collapsed": false
   },
   "outputs": [],
   "source": [
    "print('=============================clasificacion con redes neuronales================================================')\n",
    "classification_nn_model = ClassificationNeuralNetwork(data_clean)\n",
    "trained_model = classification_nn_model.classification()\n"
   ]
  },
  {
   "cell_type": "code",
   "execution_count": null,
   "id": "50823a62e342dbd7",
   "metadata": {
    "collapsed": false
   },
   "outputs": [],
   "source": [
    "regression_nn_model = RegressionNeuralNetwork(data_clean)\n",
    "regression_nn_model.regression()"
   ]
  },
  {
   "cell_type": "code",
   "execution_count": null,
   "id": "e10a6ee964d2f4fa",
   "metadata": {
    "collapsed": false
   },
   "outputs": [],
   "source": []
  }
 ],
 "metadata": {
  "kernelspec": {
   "display_name": "Python 3",
   "language": "python",
   "name": "python3"
  },
  "language_info": {
   "codemirror_mode": {
    "name": "ipython",
    "version": 3
   },
   "file_extension": ".py",
   "mimetype": "text/x-python",
   "name": "python",
   "nbconvert_exporter": "python",
   "pygments_lexer": "ipython3",
   "version": "3.10.11"
  }
 },
 "nbformat": 4,
 "nbformat_minor": 5
}
